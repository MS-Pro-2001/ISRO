{
 "cells": [
  {
   "cell_type": "code",
   "execution_count": 101,
   "id": "4a82156e",
   "metadata": {},
   "outputs": [],
   "source": [
    "import pandas as pd \n",
    "import numpy as np \n",
    "import matplotlib.pyplot as plt \n",
    "from sklearn.model_selection import train_test_split\n",
    "from sklearn.linear_model import LinearRegression,SGDRegressor\n",
    "from sklearn.preprocessing import PolynomialFeatures, StandardScaler"
   ]
  },
  {
   "cell_type": "code",
   "execution_count": 102,
   "id": "2539afc3",
   "metadata": {},
   "outputs": [
    {
     "data": {
      "text/html": [
       "<div>\n",
       "<style scoped>\n",
       "    .dataframe tbody tr th:only-of-type {\n",
       "        vertical-align: middle;\n",
       "    }\n",
       "\n",
       "    .dataframe tbody tr th {\n",
       "        vertical-align: top;\n",
       "    }\n",
       "\n",
       "    .dataframe thead th {\n",
       "        text-align: right;\n",
       "    }\n",
       "</style>\n",
       "<table border=\"1\" class=\"dataframe\">\n",
       "  <thead>\n",
       "    <tr style=\"text-align: right;\">\n",
       "      <th></th>\n",
       "      <th>date</th>\n",
       "      <th>temperature(k)</th>\n",
       "    </tr>\n",
       "  </thead>\n",
       "  <tbody>\n",
       "    <tr>\n",
       "      <th>0</th>\n",
       "      <td>1981-01-01</td>\n",
       "      <td>273.830</td>\n",
       "    </tr>\n",
       "    <tr>\n",
       "      <th>1</th>\n",
       "      <td>1981-01-02</td>\n",
       "      <td>274.172</td>\n",
       "    </tr>\n",
       "    <tr>\n",
       "      <th>2</th>\n",
       "      <td>1981-01-03</td>\n",
       "      <td>273.739</td>\n",
       "    </tr>\n",
       "    <tr>\n",
       "      <th>3</th>\n",
       "      <td>1981-01-04</td>\n",
       "      <td>273.635</td>\n",
       "    </tr>\n",
       "    <tr>\n",
       "      <th>4</th>\n",
       "      <td>1981-01-05</td>\n",
       "      <td>272.250</td>\n",
       "    </tr>\n",
       "    <tr>\n",
       "      <th>...</th>\n",
       "      <td>...</td>\n",
       "      <td>...</td>\n",
       "    </tr>\n",
       "    <tr>\n",
       "      <th>12037</th>\n",
       "      <td>2013-12-26</td>\n",
       "      <td>272.592</td>\n",
       "    </tr>\n",
       "    <tr>\n",
       "      <th>12038</th>\n",
       "      <td>2013-12-27</td>\n",
       "      <td>272.947</td>\n",
       "    </tr>\n",
       "    <tr>\n",
       "      <th>12039</th>\n",
       "      <td>2013-12-28</td>\n",
       "      <td>271.847</td>\n",
       "    </tr>\n",
       "    <tr>\n",
       "      <th>12040</th>\n",
       "      <td>2013-12-29</td>\n",
       "      <td>271.631</td>\n",
       "    </tr>\n",
       "    <tr>\n",
       "      <th>12041</th>\n",
       "      <td>2013-12-30</td>\n",
       "      <td>273.167</td>\n",
       "    </tr>\n",
       "  </tbody>\n",
       "</table>\n",
       "<p>12042 rows × 2 columns</p>\n",
       "</div>"
      ],
      "text/plain": [
       "             date  temperature(k)\n",
       "0      1981-01-01         273.830\n",
       "1      1981-01-02         274.172\n",
       "2      1981-01-03         273.739\n",
       "3      1981-01-04         273.635\n",
       "4      1981-01-05         272.250\n",
       "...           ...             ...\n",
       "12037  2013-12-26         272.592\n",
       "12038  2013-12-27         272.947\n",
       "12039  2013-12-28         271.847\n",
       "12040  2013-12-29         271.631\n",
       "12041  2013-12-30         273.167\n",
       "\n",
       "[12042 rows x 2 columns]"
      ]
     },
     "execution_count": 102,
     "metadata": {},
     "output_type": "execute_result"
    }
   ],
   "source": [
    "main_data = pd.read_csv('temp_mean_data/merged_files.csv')\n",
    "only_temp = main_data['temperature(k)']\n",
    "main_data\n"
   ]
  },
  {
   "cell_type": "code",
   "execution_count": 103,
   "id": "54ad5885",
   "metadata": {},
   "outputs": [],
   "source": [
    "data = []\n",
    "\n",
    "for x in only_temp:\n",
    "    data.append(x - 273.15)"
   ]
  },
  {
   "cell_type": "code",
   "execution_count": 104,
   "id": "3a1bc60a",
   "metadata": {},
   "outputs": [
    {
     "data": {
      "text/html": [
       "<div>\n",
       "<style scoped>\n",
       "    .dataframe tbody tr th:only-of-type {\n",
       "        vertical-align: middle;\n",
       "    }\n",
       "\n",
       "    .dataframe tbody tr th {\n",
       "        vertical-align: top;\n",
       "    }\n",
       "\n",
       "    .dataframe thead th {\n",
       "        text-align: right;\n",
       "    }\n",
       "</style>\n",
       "<table border=\"1\" class=\"dataframe\">\n",
       "  <thead>\n",
       "    <tr style=\"text-align: right;\">\n",
       "      <th></th>\n",
       "      <th>temp(C)</th>\n",
       "    </tr>\n",
       "  </thead>\n",
       "  <tbody>\n",
       "    <tr>\n",
       "      <th>0</th>\n",
       "      <td>0.680</td>\n",
       "    </tr>\n",
       "    <tr>\n",
       "      <th>1</th>\n",
       "      <td>1.022</td>\n",
       "    </tr>\n",
       "    <tr>\n",
       "      <th>2</th>\n",
       "      <td>0.589</td>\n",
       "    </tr>\n",
       "    <tr>\n",
       "      <th>3</th>\n",
       "      <td>0.485</td>\n",
       "    </tr>\n",
       "    <tr>\n",
       "      <th>4</th>\n",
       "      <td>-0.900</td>\n",
       "    </tr>\n",
       "    <tr>\n",
       "      <th>...</th>\n",
       "      <td>...</td>\n",
       "    </tr>\n",
       "    <tr>\n",
       "      <th>12037</th>\n",
       "      <td>-0.558</td>\n",
       "    </tr>\n",
       "    <tr>\n",
       "      <th>12038</th>\n",
       "      <td>-0.203</td>\n",
       "    </tr>\n",
       "    <tr>\n",
       "      <th>12039</th>\n",
       "      <td>-1.303</td>\n",
       "    </tr>\n",
       "    <tr>\n",
       "      <th>12040</th>\n",
       "      <td>-1.519</td>\n",
       "    </tr>\n",
       "    <tr>\n",
       "      <th>12041</th>\n",
       "      <td>0.017</td>\n",
       "    </tr>\n",
       "  </tbody>\n",
       "</table>\n",
       "<p>12042 rows × 1 columns</p>\n",
       "</div>"
      ],
      "text/plain": [
       "       temp(C)\n",
       "0        0.680\n",
       "1        1.022\n",
       "2        0.589\n",
       "3        0.485\n",
       "4       -0.900\n",
       "...        ...\n",
       "12037   -0.558\n",
       "12038   -0.203\n",
       "12039   -1.303\n",
       "12040   -1.519\n",
       "12041    0.017\n",
       "\n",
       "[12042 rows x 1 columns]"
      ]
     },
     "execution_count": 104,
     "metadata": {},
     "output_type": "execute_result"
    }
   ],
   "source": [
    "temp_in_celsius = pd.DataFrame(data,columns={'temp(C)'})\n",
    "temp_in_celsius\n"
   ]
  },
  {
   "cell_type": "code",
   "execution_count": 105,
   "id": "b255df13",
   "metadata": {},
   "outputs": [
    {
     "data": {
      "text/plain": [
       "[<matplotlib.lines.Line2D at 0x1f76a3afaf0>]"
      ]
     },
     "execution_count": 105,
     "metadata": {},
     "output_type": "execute_result"
    },
    {
     "data": {
      "image/png": "[encoded data removed]",
      "text/plain": [
       "<Figure size 432x288 with 1 Axes>"
      ]
     },
     "metadata": {
      "needs_background": "light"
     },
     "output_type": "display_data"
    }
   ],
   "source": [
    "plt.plot(temp_in_celsius)"
   ]
  },
  {
   "cell_type": "code",
   "execution_count": 106,
   "id": "8c51fa81",
   "metadata": {},
   "outputs": [
    {
     "data": {
      "text/plain": [
       "[<matplotlib.lines.Line2D at 0x1f76a5bab50>]"
      ]
     },
     "execution_count": 106,
     "metadata": {},
     "output_type": "execute_result"
    },
    {
     "data": {
      "image/png": "[encoded data removed]",
      "text/plain": [
       "<Figure size 432x288 with 1 Axes>"
      ]
     },
     "metadata": {
      "needs_background": "light"
     },
     "output_type": "display_data"
    }
   ],
   "source": [
    "plt.plot(only_temp.head(365),'b.')"
   ]
  },
  {
   "cell_type": "code",
   "execution_count": 113,
   "id": "785ce548",
   "metadata": {},
   "outputs": [],
   "source": [
    "# main_data['date'] = pd.to_datetime(main_data['date'])\n",
    "y_plot = main_data['temperature(k)'].head(365)\n",
    "# x_plot = main_data['date'].head(365)\n",
    "y_model = main_data[['temperature(k)']].head(365)\n",
    "# x_model = main_data[['date']].head(365)\n",
    "My_list = range(0, 365)\n",
    "x = pd.DataFrame(My_list)"
   ]
  },
  {
   "cell_type": "code",
   "execution_count": 114,
   "id": "c6774e22",
   "metadata": {},
   "outputs": [
    {
     "data": {
      "text/plain": [
       "[<matplotlib.lines.Line2D at 0x1f76bb14940>]"
      ]
     },
     "execution_count": 114,
     "metadata": {},
     "output_type": "execute_result"
    },
    {
     "data": {
      "image/png": "[encoded data removed]",
      "text/plain": [
       "<Figure size 432x288 with 1 Axes>"
      ]
     },
     "metadata": {
      "needs_background": "light"
     },
     "output_type": "display_data"
    }
   ],
   "source": [
    "plt.plot(x[0],y_plot)"
   ]
  },
  {
   "cell_type": "code",
   "execution_count": 124,
   "id": "830bea6e",
   "metadata": {},
   "outputs": [],
   "source": [
    "# Train test split\n",
    "X_train,X_test,y_train,y_test = train_test_split(x_model,y_model,test_size=0.2)"
   ]
  },
  {
   "cell_type": "code",
   "execution_count": 125,
   "id": "dc17bf87",
   "metadata": {},
   "outputs": [],
   "source": [
    "# Applying linear regression\n",
    "lr = LinearRegression()"
   ]
  },
  {
   "cell_type": "code",
   "execution_count": 126,
   "id": "68429fd6",
   "metadata": {},
   "outputs": [
    {
     "data": {
      "text/plain": [
       "LinearRegression()"
      ]
     },
     "execution_count": 126,
     "metadata": {},
     "output_type": "execute_result"
    }
   ],
   "source": [
    "lr.fit(X_train,y_train)"
   ]
  },
  {
   "cell_type": "code",
   "execution_count": 127,
   "id": "7a92d9ef",
   "metadata": {},
   "outputs": [],
   "source": [
    "from sklearn.metrics import r2_score\n",
    "y_pred = lr.predict(X_test)"
   ]
  },
  {
   "cell_type": "code",
   "execution_count": 128,
   "id": "c6dbc077",
   "metadata": {},
   "outputs": [
    {
     "name": "stdout",
     "output_type": "stream",
     "text": [
      "4.37% accuracy\n"
     ]
    }
   ],
   "source": [
    "accuracy = r2_score(y_test,y_pred)\n",
    "print(\"%.2f\" % (accuracy*100)+\"% accuracy\")"
   ]
  },
  {
   "cell_type": "code",
   "execution_count": 130,
   "id": "f39b9e7e",
   "metadata": {},
   "outputs": [
    {
     "data": {
      "image/png": "[encoded data removed]",
      "text/plain": [
       "<Figure size 432x288 with 1 Axes>"
      ]
     },
     "metadata": {
      "needs_background": "light"
     },
     "output_type": "display_data"
    }
   ],
   "source": [
    "plt.plot(X_test[0],y_pred,color='r')\n",
    "plt.plot(x[0],y_plot)\n",
    "plt.xlabel('dates')\n",
    "plt.ylabel('temp')\n",
    "plt.title('Linear Regression')\n",
    "plt.show()\n",
    "\n"
   ]
  },
  {
   "cell_type": "code",
   "execution_count": 131,
   "id": "97bf593e",
   "metadata": {},
   "outputs": [],
   "source": [
    "# Applying polynomial linear regression\n",
    "# degree = 2\n",
    "poly = PolynomialFeatures(degree=2)\n",
    "X_train_trans = poly.fit_transform(X_train)\n",
    "X_test_trans = poly.fit_transform(X_test)"
   ]
  },
  {
   "cell_type": "code",
   "execution_count": 133,
   "id": "ae20eed6",
   "metadata": {},
   "outputs": [
    {
     "name": "stdout",
     "output_type": "stream",
     "text": [
      "280    280\n",
      "155    155\n",
      "212    212\n",
      "205    205\n",
      "115    115\n",
      "      ... \n",
      "260    260\n",
      "296    296\n",
      "259    259\n",
      "270    270\n",
      "45      45\n",
      "Name: 0, Length: 292, dtype: int64\n"
     ]
    },
    {
     "data": {
      "text/plain": [
       "array([1.00e+00, 2.80e+02, 7.84e+04])"
      ]
     },
     "execution_count": 133,
     "metadata": {},
     "output_type": "execute_result"
    }
   ],
   "source": [
    "print(X_train[0])\n",
    "X_train_trans[0]"
   ]
  },
  {
   "cell_type": "code",
   "execution_count": 134,
   "id": "f3a2f060",
   "metadata": {},
   "outputs": [
    {
     "data": {
      "text/plain": [
       "LinearRegression()"
      ]
     },
     "execution_count": 134,
     "metadata": {},
     "output_type": "execute_result"
    }
   ],
   "source": [
    "lr = LinearRegression()\n",
    "lr.fit(X_train_trans,y_train)"
   ]
  },
  {
   "cell_type": "code",
   "execution_count": 136,
   "id": "50fa9575",
   "metadata": {},
   "outputs": [],
   "source": [
    "y_pred_trans = lr.predict(X_test_trans)"
   ]
  },
  {
   "cell_type": "code",
   "execution_count": 143,
   "id": "3dd0d1cc",
   "metadata": {},
   "outputs": [
    {
     "name": "stdout",
     "output_type": "stream",
     "text": [
      "88.81% accuracy\n"
     ]
    }
   ],
   "source": [
    "accuracy_poly = r2_score(y_test,y_pred_trans)\n",
    "print(\"%.2f\" % (accuracy_poly*100)+\"% accuracy\")"
   ]
  },
  {
   "cell_type": "code",
   "execution_count": null,
   "id": "7ce90c6a",
   "metadata": {},
   "outputs": [],
   "source": []
  }
 ],
 "metadata": {
  "kernelspec": {
   "display_name": "Python 3 (ipykernel)",
   "language": "python",
   "name": "python3"
  },
  "language_info": {
   "codemirror_mode": {
    "name": "ipython",
    "version": 3
   },
   "file_extension": ".py",
   "mimetype": "text/x-python",
   "name": "python",
   "nbconvert_exporter": "python",
   "pygments_lexer": "ipython3",
   "version": "3.9.12"
  }
 },
 "nbformat": 4,
 "nbformat_minor": 5
}
