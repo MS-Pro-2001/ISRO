{
 "cells": [
  {
   "cell_type": "markdown",
   "id": "a56c423a",
   "metadata": {},
   "source": [
    "## Precipiation data from era5 daily data"
   ]
  },
  {
   "cell_type": "code",
   "execution_count": 12,
   "id": "e8805d5e",
   "metadata": {},
   "outputs": [],
   "source": [
    "import pandas as pd\n",
    "import matplotlib.pyplot as plt\n",
    "import seaborn as sns"
   ]
  },
  {
   "cell_type": "code",
   "execution_count": 14,
   "id": "b4f6331f",
   "metadata": {},
   "outputs": [],
   "source": [
    "files = ['1981-83.csv', '1984-86.csv','1987-89.csv','1990-92.csv','1993-95.csv','1996-98.csv','1999-2001.csv','2002-04.csv','2005-07.csv','2008-10.csv','2011-13.csv']\n",
    "df = pd.DataFrame()\n",
    "for file in files:\n",
    "    data = pd.read_csv('precipitation_data/'+file)\n",
    "    df = pd.concat([df, data], axis=0)\n",
    "\n",
    "# df.to_csv('precipitation_data/merged_files.csv', index=False)\n",
    "df.to_csv('precipitation_data/merged_files.csv', index=False)"
   ]
  },
  {
   "cell_type": "code",
   "execution_count": 15,
   "id": "1e3ad4b8",
   "metadata": {},
   "outputs": [
    {
     "data": {
      "text/html": [
       "<div>\n",
       "<style scoped>\n",
       "    .dataframe tbody tr th:only-of-type {\n",
       "        vertical-align: middle;\n",
       "    }\n",
       "\n",
       "    .dataframe tbody tr th {\n",
       "        vertical-align: top;\n",
       "    }\n",
       "\n",
       "    .dataframe thead th {\n",
       "        text-align: right;\n",
       "    }\n",
       "</style>\n",
       "<table border=\"1\" class=\"dataframe\">\n",
       "  <thead>\n",
       "    <tr style=\"text-align: right;\">\n",
       "      <th></th>\n",
       "      <th>date</th>\n",
       "      <th>precipitation</th>\n",
       "    </tr>\n",
       "  </thead>\n",
       "  <tbody>\n",
       "    <tr>\n",
       "      <th>0</th>\n",
       "      <td>1981-01-01</td>\n",
       "      <td>0.000</td>\n",
       "    </tr>\n",
       "    <tr>\n",
       "      <th>1</th>\n",
       "      <td>1981-01-02</td>\n",
       "      <td>0.000</td>\n",
       "    </tr>\n",
       "    <tr>\n",
       "      <th>2</th>\n",
       "      <td>1981-01-03</td>\n",
       "      <td>0.008</td>\n",
       "    </tr>\n",
       "    <tr>\n",
       "      <th>3</th>\n",
       "      <td>1981-01-04</td>\n",
       "      <td>0.003</td>\n",
       "    </tr>\n",
       "    <tr>\n",
       "      <th>4</th>\n",
       "      <td>1981-01-05</td>\n",
       "      <td>0.004</td>\n",
       "    </tr>\n",
       "    <tr>\n",
       "      <th>...</th>\n",
       "      <td>...</td>\n",
       "      <td>...</td>\n",
       "    </tr>\n",
       "    <tr>\n",
       "      <th>12037</th>\n",
       "      <td>2013-12-26</td>\n",
       "      <td>0.000</td>\n",
       "    </tr>\n",
       "    <tr>\n",
       "      <th>12038</th>\n",
       "      <td>2013-12-27</td>\n",
       "      <td>0.000</td>\n",
       "    </tr>\n",
       "    <tr>\n",
       "      <th>12039</th>\n",
       "      <td>2013-12-28</td>\n",
       "      <td>0.000</td>\n",
       "    </tr>\n",
       "    <tr>\n",
       "      <th>12040</th>\n",
       "      <td>2013-12-29</td>\n",
       "      <td>0.000</td>\n",
       "    </tr>\n",
       "    <tr>\n",
       "      <th>12041</th>\n",
       "      <td>2013-12-30</td>\n",
       "      <td>0.005</td>\n",
       "    </tr>\n",
       "  </tbody>\n",
       "</table>\n",
       "<p>12042 rows × 2 columns</p>\n",
       "</div>"
      ],
      "text/plain": [
       "            date  precipitation\n",
       "0     1981-01-01          0.000\n",
       "1     1981-01-02          0.000\n",
       "2     1981-01-03          0.008\n",
       "3     1981-01-04          0.003\n",
       "4     1981-01-05          0.004\n",
       "...          ...            ...\n",
       "12037 2013-12-26          0.000\n",
       "12038 2013-12-27          0.000\n",
       "12039 2013-12-28          0.000\n",
       "12040 2013-12-29          0.000\n",
       "12041 2013-12-30          0.005\n",
       "\n",
       "[12042 rows x 2 columns]"
      ]
     },
     "execution_count": 15,
     "metadata": {},
     "output_type": "execute_result"
    }
   ],
   "source": [
    "df_precipitaion_data = pd.read_csv('precipitation_data/merged_files.csv')\n",
    "df_precipitaion_data.rename(columns={'system:time_start':'date','Uttaranchal':'precipitation'},inplace=True)\n",
    "df_precipitaion_data['date'] = pd.to_datetime(df_precipitaion_data['date'])\n",
    "df_precipitaion_data"
   ]
  },
  {
   "cell_type": "code",
   "execution_count": 16,
   "id": "2aba4395",
   "metadata": {},
   "outputs": [
    {
     "data": {
      "image/png": "[encoded data removed]",
      "text/plain": [
       "<Figure size 432x288 with 1 Axes>"
      ]
     },
     "metadata": {
      "needs_background": "light"
     },
     "output_type": "display_data"
    }
   ],
   "source": [
    "sns.lineplot(data=df_precipitaion_data,x='date',y='precipitation')\n",
    "df_precipitaion_data.to_csv('precipitation_data/merged_files.csv', index=False)"
   ]
  },
  {
   "cell_type": "code",
   "execution_count": null,
   "id": "fa8c237e",
   "metadata": {},
   "outputs": [],
   "source": []
  }
 ],
 "metadata": {
  "kernelspec": {
   "display_name": "Python 3 (ipykernel)",
   "language": "python",
   "name": "python3"
  },
  "language_info": {
   "codemirror_mode": {
    "name": "ipython",
    "version": 3
   },
   "file_extension": ".py",
   "mimetype": "text/x-python",
   "name": "python",
   "nbconvert_exporter": "python",
   "pygments_lexer": "ipython3",
   "version": "3.9.12"
  }
 },
 "nbformat": 4,
 "nbformat_minor": 5
}
